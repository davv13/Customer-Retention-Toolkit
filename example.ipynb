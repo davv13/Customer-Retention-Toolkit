{
 "cells": [
  {
   "cell_type": "markdown",
   "metadata": {},
   "source": [
    "# **Customer Retention Toolkit Demo**"
   ]
  },
  {
   "cell_type": "code",
   "execution_count": 1,
   "metadata": {},
   "outputs": [],
   "source": [
    "import pandas as pd\n",
    "import os\n",
    "import random\n",
    "from customer_retention_toolkit.db.schema import *\n",
    "from customer_retention_toolkit.db.sql_interactions import  SqlHandler\n",
    "from customer_retention_toolkit.logger import *\n",
    "from FillTables import *\n",
    "from customer_retention_toolkit.models.MLWorkflow import MLWorkflow\n",
    "from customer_retention_toolkit.api import app\n",
    "\n",
    "# Configure the logger\n",
    "logger = logging.getLogger('example_notebook')\n",
    "logger.setLevel(logging.DEBUG)\n",
    "ch = logging.StreamHandler()\n",
    "ch.setLevel(logging.DEBUG)\n",
    "ch.setFormatter(logging.Formatter('%(asctime)s - %(levelname)s - %(message)s'))\n",
    "logger.addHandler(ch)"
   ]
  },
  {
   "cell_type": "markdown",
   "metadata": {},
   "source": [
    "## **Data Preparation and Ingestion**"
   ]
  },
  {
   "cell_type": "code",
   "execution_count": 2,
   "metadata": {},
   "outputs": [
    {
     "name": "stderr",
     "output_type": "stream",
     "text": [
      "2023-12-12 20:40:13,945 - INFO - Deleted existing temp.db\n"
     ]
    },
    {
     "name": "stderr",
     "output_type": "stream",
     "text": [
      "\u001b[38;5;183m2023-12-12 20:40:13,983 - sql_interactions.py - get_table_columns - INFO - (The list of columns: ['StateID', 'StateName']) - line: 67\u001b[0m\n",
      "\u001b[38;5;183m2023-12-12 20:40:13,986 - sql_interactions.py - get_table_columns - INFO - (The list of columns: ['StateID', 'StateName']) - line: 67\u001b[0m\n",
      "\u001b[38;5;183m2023-12-12 20:40:13,995 - sql_interactions.py - insert_many - INFO - (Data inserted successfully) - line: 102\u001b[0m\n",
      "\u001b[38;5;183m2023-12-12 20:40:13,997 - sql_interactions.py - close_cnxn - INFO - (Committing the changes) - line: 52\u001b[0m\n",
      "\u001b[38;5;183m2023-12-12 20:40:13,999 - sql_interactions.py - close_cnxn - INFO - (The connection has been closed) - line: 55\u001b[0m\n",
      "\u001b[38;5;183m2023-12-12 20:40:14,001 - sql_interactions.py - get_table_columns - INFO - (The list of columns: ['PlanID', 'AreaCode', 'InternationalPlan', 'VoiceMailPlan', 'NumberVMailMessages']) - line: 67\u001b[0m\n",
      "\u001b[38;5;183m2023-12-12 20:40:14,004 - sql_interactions.py - get_table_columns - INFO - (The list of columns: ['PlanID', 'AreaCode', 'InternationalPlan', 'VoiceMailPlan', 'NumberVMailMessages']) - line: 67\u001b[0m\n",
      "\u001b[38;5;183m2023-12-12 20:40:14,011 - sql_interactions.py - insert_many - INFO - (Data inserted successfully) - line: 102\u001b[0m\n",
      "\u001b[38;5;183m2023-12-12 20:40:14,011 - sql_interactions.py - close_cnxn - INFO - (Committing the changes) - line: 52\u001b[0m\n",
      "\u001b[38;5;183m2023-12-12 20:40:14,015 - sql_interactions.py - close_cnxn - INFO - (The connection has been closed) - line: 55\u001b[0m\n",
      "\u001b[38;5;183m2023-12-12 20:40:14,017 - sql_interactions.py - get_table_columns - INFO - (The list of columns: ['DayUsageID', 'TotalDayMinutes', 'TotalDayCalls', 'TotalDayCharge']) - line: 67\u001b[0m\n",
      "\u001b[38;5;183m2023-12-12 20:40:14,019 - sql_interactions.py - get_table_columns - INFO - (The list of columns: ['DayUsageID', 'TotalDayMinutes', 'TotalDayCalls', 'TotalDayCharge']) - line: 67\u001b[0m\n",
      "\u001b[38;5;183m2023-12-12 20:40:14,025 - sql_interactions.py - insert_many - INFO - (Data inserted successfully) - line: 102\u001b[0m\n",
      "\u001b[38;5;183m2023-12-12 20:40:14,026 - sql_interactions.py - close_cnxn - INFO - (Committing the changes) - line: 52\u001b[0m\n",
      "\u001b[38;5;183m2023-12-12 20:40:14,029 - sql_interactions.py - close_cnxn - INFO - (The connection has been closed) - line: 55\u001b[0m\n",
      "\u001b[38;5;183m2023-12-12 20:40:14,032 - sql_interactions.py - get_table_columns - INFO - (The list of columns: ['EveUsageID', 'TotalEveMinutes', 'TotalEveCalls', 'TotalEveCharge']) - line: 67\u001b[0m\n",
      "\u001b[38;5;183m2023-12-12 20:40:14,035 - sql_interactions.py - get_table_columns - INFO - (The list of columns: ['EveUsageID', 'TotalEveMinutes', 'TotalEveCalls', 'TotalEveCharge']) - line: 67\u001b[0m\n",
      "\u001b[38;5;183m2023-12-12 20:40:14,043 - sql_interactions.py - insert_many - INFO - (Data inserted successfully) - line: 102\u001b[0m\n",
      "\u001b[38;5;183m2023-12-12 20:40:14,045 - sql_interactions.py - close_cnxn - INFO - (Committing the changes) - line: 52\u001b[0m\n",
      "\u001b[38;5;183m2023-12-12 20:40:14,049 - sql_interactions.py - close_cnxn - INFO - (The connection has been closed) - line: 55\u001b[0m\n",
      "\u001b[38;5;183m2023-12-12 20:40:14,052 - sql_interactions.py - get_table_columns - INFO - (The list of columns: ['NightUsageID', 'TotalNightMinutes', 'TotalNightCalls', 'TotalNightCharge']) - line: 67\u001b[0m\n",
      "\u001b[38;5;183m2023-12-12 20:40:14,054 - sql_interactions.py - get_table_columns - INFO - (The list of columns: ['NightUsageID', 'TotalNightMinutes', 'TotalNightCalls', 'TotalNightCharge']) - line: 67\u001b[0m\n",
      "\u001b[38;5;183m2023-12-12 20:40:14,062 - sql_interactions.py - insert_many - INFO - (Data inserted successfully) - line: 102\u001b[0m\n",
      "\u001b[38;5;183m2023-12-12 20:40:14,063 - sql_interactions.py - close_cnxn - INFO - (Committing the changes) - line: 52\u001b[0m\n",
      "\u001b[38;5;183m2023-12-12 20:40:14,067 - sql_interactions.py - close_cnxn - INFO - (The connection has been closed) - line: 55\u001b[0m\n",
      "\u001b[38;5;183m2023-12-12 20:40:14,069 - sql_interactions.py - get_table_columns - INFO - (The list of columns: ['IntlUsageID', 'TotalIntlMinutes', 'TotalIntlCalls', 'TotalIntlCharge']) - line: 67\u001b[0m\n",
      "\u001b[38;5;183m2023-12-12 20:40:14,071 - sql_interactions.py - get_table_columns - INFO - (The list of columns: ['IntlUsageID', 'TotalIntlMinutes', 'TotalIntlCalls', 'TotalIntlCharge']) - line: 67\u001b[0m\n",
      "\u001b[38;5;183m2023-12-12 20:40:14,078 - sql_interactions.py - insert_many - INFO - (Data inserted successfully) - line: 102\u001b[0m\n",
      "\u001b[38;5;183m2023-12-12 20:40:14,079 - sql_interactions.py - close_cnxn - INFO - (Committing the changes) - line: 52\u001b[0m\n",
      "\u001b[38;5;183m2023-12-12 20:40:14,082 - sql_interactions.py - close_cnxn - INFO - (The connection has been closed) - line: 55\u001b[0m\n",
      "\u001b[38;5;183m2023-12-12 20:40:14,085 - sql_interactions.py - get_table_columns - INFO - (The list of columns: ['CustomerID', 'StateID', 'PlanID', 'DayUsageID', 'EveUsageID', 'NightUsageID', 'IntlUsageID', 'CustomerServiceCalls', 'ChurnStatus']) - line: 67\u001b[0m\n",
      "\u001b[38;5;183m2023-12-12 20:40:14,089 - sql_interactions.py - get_table_columns - INFO - (The list of columns: ['CustomerID', 'StateID', 'PlanID', 'DayUsageID', 'EveUsageID', 'NightUsageID', 'IntlUsageID', 'CustomerServiceCalls', 'ChurnStatus']) - line: 67\u001b[0m\n",
      "\u001b[38;5;183m2023-12-12 20:40:14,098 - sql_interactions.py - insert_many - INFO - (Data inserted successfully) - line: 102\u001b[0m\n",
      "\u001b[38;5;183m2023-12-12 20:40:14,100 - sql_interactions.py - close_cnxn - INFO - (Committing the changes) - line: 52\u001b[0m\n",
      "\u001b[38;5;183m2023-12-12 20:40:14,104 - sql_interactions.py - close_cnxn - INFO - (The connection has been closed) - line: 55\u001b[0m\n"
     ]
    }
   ],
   "source": [
    "db_filename = 'temp.db'\n",
    "\n",
    "if os.path.exists(db_filename):\n",
    "    os.remove(db_filename)\n",
    "    logger.info(f\"Deleted existing {db_filename}\")\n",
    "\n",
    "create_database()\n",
    "InsertToTables()"
   ]
  },
  {
   "cell_type": "markdown",
   "metadata": {},
   "source": [
    "## **Load data from the database**"
   ]
  },
  {
   "cell_type": "code",
   "execution_count": 3,
   "metadata": {},
   "outputs": [],
   "source": [
    "dbname = 'temp'\n",
    "workflow = MLWorkflow(dbname)"
   ]
  },
  {
   "cell_type": "markdown",
   "metadata": {},
   "source": [
    "## **Run the workflow**"
   ]
  },
  {
   "cell_type": "code",
   "execution_count": 4,
   "metadata": {},
   "outputs": [
    {
     "name": "stderr",
     "output_type": "stream",
     "text": [
      "2023-12-12 20:40:18,868 - MLWorkflow.py - INFO - Model trained successfully.\n",
      "2023-12-12 20:40:18,917 - INFO - Random Forest Model Metrics:\n",
      "2023-12-12 20:40:18,919 - INFO - Accuracy: 0.9138576779026217\n",
      "2023-12-12 20:40:18,920 - INFO - Confusion Matrix: [[454   1]\n",
      " [ 45  34]]\n",
      "2023-12-12 20:40:18,920 - INFO - Classification Report:               precision    recall  f1-score   support\n",
      "\n",
      "         0.0       0.91      1.00      0.95       455\n",
      "         1.0       0.97      0.43      0.60        79\n",
      "\n",
      "    accuracy                           0.91       534\n",
      "   macro avg       0.94      0.71      0.77       534\n",
      "weighted avg       0.92      0.91      0.90       534\n",
      "\n"
     ]
    }
   ],
   "source": [
    "table_names = ['State', 'PlanDetails', 'DayUsage', 'EveUsage', 'NightUsage', 'IntlUsage', 'CustomerMetrics']\n",
    "metrics, X_test, y_test, best_model_predictions = workflow.run_workflow(table_names)\n",
    "\n",
    "logger.info(\"Random Forest Model Metrics:\")\n",
    "for metric_name, metric_value in metrics.items():\n",
    "    logger.info(f\"{metric_name}: {metric_value}\")"
   ]
  },
  {
   "cell_type": "markdown",
   "metadata": {},
   "source": [
    "## **Save predictions to the database**"
   ]
  },
  {
   "cell_type": "code",
   "execution_count": 5,
   "metadata": {},
   "outputs": [
    {
     "name": "stderr",
     "output_type": "stream",
     "text": [
      "\u001b[38;5;183m2023-12-12 20:40:20,657 - sql_interactions.py - get_table_columns - INFO - (The list of columns: ['PredictionID', 'CustomerID', 'PredictedLabel', 'ModelName', 'ChurnStatus']) - line: 67\u001b[0m\n",
      "\u001b[38;5;183m2023-12-12 20:40:20,661 - sql_interactions.py - insert_many - INFO - (Data inserted successfully) - line: 102\u001b[0m\n",
      "\u001b[38;5;183m2023-12-12 20:40:20,662 - sql_interactions.py - close_cnxn - INFO - (Committing the changes) - line: 52\u001b[0m\n",
      "\u001b[38;5;183m2023-12-12 20:40:20,665 - sql_interactions.py - close_cnxn - INFO - (The connection has been closed) - line: 55\u001b[0m\n",
      "2023-12-12 20:40:20,667 - MLWorkflow.py - INFO - Predictions saved to PredictionResults\n"
     ]
    }
   ],
   "source": [
    "workflow.save_predictions_to_db(X_test, y_test, best_model_predictions, table_name='PredictionResults')    "
   ]
  },
  {
   "cell_type": "markdown",
   "metadata": {},
   "source": [
    "## **Example API Test**"
   ]
  },
  {
   "cell_type": "code",
   "execution_count": 7,
   "metadata": {},
   "outputs": [
    {
     "name": "stdout",
     "output_type": "stream",
     "text": [
      "{'message': 'Initializing'}\n"
     ]
    }
   ],
   "source": [
    "import requests\n",
    "\n",
    "# The base URL for your API\n",
    "base_url = \"http://127.0.0.1:5000\"\n",
    "\n",
    "# GET request to the root endpoint\n",
    "response = requests.get(f\"{base_url}/\")\n",
    "print(response.json())\n"
   ]
  },
  {
   "cell_type": "code",
   "execution_count": 8,
   "metadata": {},
   "outputs": [
    {
     "name": "stdout",
     "output_type": "stream",
     "text": [
      "{'CustomerID': 1, 'StateID': 1, 'PlanID': 1, 'DayUsageID': 1, 'EveUsageID': 1, 'NightUsageID': 1, 'IntlUsageID': 1, 'CustomerServiceCalls': 1, 'ChurnStatus': 0}\n"
     ]
    }
   ],
   "source": [
    "# Replace with a valid customer ID\n",
    "customer_id = 1\n",
    "response = requests.get(f\"{base_url}/get_data/{customer_id}\")\n",
    "print(response.json())\n"
   ]
  },
  {
   "cell_type": "code",
   "execution_count": 9,
   "metadata": {},
   "outputs": [
    {
     "name": "stdout",
     "output_type": "stream",
     "text": [
      "{'message': 'Record created successfully'}\n"
     ]
    }
   ],
   "source": [
    "# base_url = 'http://127.0.0.1:5000'  # Replace with the actual base URL if different\n",
    "\n",
    "new_customer_data = {\n",
    "    \"CustomerID\": 2749,\n",
    "    \"ChurnStatus\": 1,\n",
    "    \"StateID\": 1,  # Assuming '1' is a valid StateID in your database\n",
    "    \"PlanID\": 1,  # Assuming '1' is a valid PlanID in your database\n",
    "    \"DayUsageID\": 1,  # Assuming '1' is a valid DayUsageID in your database\n",
    "    \"EveUsageID\": 1,  # Assuming '1' is a valid EveUsageID in your database\n",
    "    \"NightUsageID\": 1,  # Assuming '1' is a valid NightUsageID in your database\n",
    "    \"IntlUsageID\": 1,  # Assuming '1' is a valid IntlUsageID in your database\n",
    "    \"CustomerServiceCalls\": 1  # Number of customer service calls\n",
    "}\n",
    "\n",
    "response = requests.post(f\"{base_url}/create_data\", json=new_customer_data)\n",
    "print(response.json())\n"
   ]
  },
  {
   "cell_type": "code",
   "execution_count": 10,
   "metadata": {},
   "outputs": [
    {
     "name": "stdout",
     "output_type": "stream",
     "text": [
      "{'message': 'Record updated successfully'}\n"
     ]
    }
   ],
   "source": [
    "# PUT request to update a customer record\n",
    "update_data = {\n",
    "    \"column_name\": \"ChurnStatus\",\n",
    "    \"new_value\": 1,\n",
    "    \"CustomerID\": 2749  # Make sure this ID exists in your database\n",
    "}\n",
    "response = requests.put(f\"{base_url}/update_data\", json=update_data)\n",
    "print(response.json())\n"
   ]
  },
  {
   "cell_type": "code",
   "execution_count": 11,
   "metadata": {},
   "outputs": [
    {
     "name": "stdout",
     "output_type": "stream",
     "text": [
      "Status Code: 200\n",
      "{'CustomerID': 555, 'ChurnPrediction': 0}\n"
     ]
    }
   ],
   "source": [
    "# GET request to predict churn for a customer\n",
    "# response = requests.get(f\"{base_url}/predict_churn/{customer_id}\")\n",
    "# print(response.json())\n",
    "customer_id = 555\n",
    "response = requests.get(f\"{base_url}/predict_churn/{customer_id}\")\n",
    "print('Status Code:', response.status_code)\n",
    "\n",
    "if response.status_code == 200:\n",
    "    try:\n",
    "        data = response.json()\n",
    "        print(data)\n",
    "    except JSONDecodeError:\n",
    "        print('Response could not be decoded as JSON:', response.text)\n",
    "else:\n",
    "    print('Failed to fetch data:', response.text)\n"
   ]
  },
  {
   "cell_type": "code",
   "execution_count": null,
   "metadata": {},
   "outputs": [],
   "source": []
  }
 ],
 "metadata": {
  "kernelspec": {
   "display_name": "venv",
   "language": "python",
   "name": "python3"
  },
  "language_info": {
   "codemirror_mode": {
    "name": "ipython",
    "version": 3
   },
   "file_extension": ".py",
   "mimetype": "text/x-python",
   "name": "python",
   "nbconvert_exporter": "python",
   "pygments_lexer": "ipython3",
   "version": "3.11.4"
  }
 },
 "nbformat": 4,
 "nbformat_minor": 2
}
